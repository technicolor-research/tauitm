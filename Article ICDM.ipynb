{
 "cells": [
  {
   "cell_type": "code",
   "execution_count": null,
   "metadata": {
    "collapsed": true
   },
   "outputs": [],
   "source": [
    "#########################################################################################################################################\n",
    "## Copyright (c) 2016 - Technicolor R&D France\n",
    "## \n",
    "## The source code form of this Open Source Project components is subject to the terms of the Clear BSD license.\n",
    "##\n",
    "## You can redistribute it and/or modify it under the terms of the Clear BSD License (http://directory.fsf.org/wiki/License:ClearBSD)\n",
    "##\n",
    "## See LICENSE file for more details.\n",
    "##\n",
    "## This software project does also include third party Open Source Software: See data/LICENSE file for more details.\n",
    "#########################################################################################################################################"
   ]
  },
  {
   "cell_type": "markdown",
   "metadata": {},
   "source": [
    "# Initial Imports"
   ]
  },
  {
   "cell_type": "code",
   "execution_count": null,
   "metadata": {
    "collapsed": false
   },
   "outputs": [],
   "source": [
    "import matplotlib.pyplot as plt\n",
    "import numpy as np\n",
    "from numpy import random\n",
    "import TAUITM.data_construction\n",
    "import TAUITM.identification\n",
    "%pylab inline"
   ]
  },
  {
   "cell_type": "markdown",
   "metadata": {},
   "source": [
    "# Data Loading"
   ]
  },
  {
   "cell_type": "markdown",
   "metadata": {},
   "source": [
    "Read the list of movies contained in MovieTweeting."
   ]
  },
  {
   "cell_type": "code",
   "execution_count": null,
   "metadata": {
    "collapsed": false
   },
   "outputs": [],
   "source": [
    "movies,names,mid_to_pos = TAUITM.data_construction.read_movies('data/movies.dat')"
   ]
  },
  {
   "cell_type": "markdown",
   "metadata": {},
   "source": [
    "Read the ratings of MovieTweeting. The variable ratings is a dictionary of the ratings of users referenced by their user id. A rating is in the form [movie,rating_value,timestamp]."
   ]
  },
  {
   "cell_type": "code",
   "execution_count": null,
   "metadata": {
    "collapsed": false
   },
   "outputs": [],
   "source": [
    "ratings = TAUITM.data_construction.read_ratings_MT('data/ratings.dat')"
   ]
  },
  {
   "cell_type": "markdown",
   "metadata": {},
   "source": [
    "Create two set of accounts, a small one and a big one."
   ]
  },
  {
   "cell_type": "code",
   "execution_count": null,
   "metadata": {
    "collapsed": false,
    "scrolled": true
   },
   "outputs": [],
   "source": [
    "household_size=2 # Number of members in composite households.\n",
    "min_rating=100 # Minimum number of ratings for an user to.\n",
    "close=True # True to pair users actives during nearby time periods.\n",
    "time_period='week' # Periodicity used, week or day or absolute.\n",
    "min_time_distance=60*60 # Number of seconds \n",
    "composite=TAUITM.data_construction.generate_composite_users(ratings,movies,household_size,min_ratings=min_rating,remove_unknown=True,close=close,time=time_period,seed=0,min_time_distance=min_time_distance)\n",
    "composite_small=TAUITM.data_construction.generate_composite_users(ratings,movies,household_size,min_ratings=min_rating,remove_unknown=True,close=close,big=False,time=time_period,seed=0,min_time_distance=min_time_distance)\n",
    "accounts=composite\n",
    "composite_all=composite+composite_small"
   ]
  },
  {
   "cell_type": "markdown",
   "metadata": {},
   "source": [
    "# Visualize the first accounts"
   ]
  },
  {
   "cell_type": "code",
   "execution_count": null,
   "metadata": {
    "collapsed": true
   },
   "outputs": [],
   "source": [
    "def set_color(p):\n",
    "    \"\"\" Choose the colors which will be used in the plot \"\"\"\n",
    "    return (0,p,1-p)\n",
    "\n",
    "def set_shape(i):\n",
    "    \"\"\" Choose the shapes which will be used in the plot \"\"\"\n",
    "    possible_shape={0:'o',1:'s',2:'*'}\n",
    "    return possible_shape[i]"
   ]
  },
  {
   "cell_type": "code",
   "execution_count": null,
   "metadata": {
    "collapsed": false,
    "scrolled": true
   },
   "outputs": [],
   "source": [
    "# Get the absolute times for display\n",
    "composite_absolute=TAUITM.data_construction.generate_composite_users(ratings,movies,household_size,min_ratings=min_rating,remove_unknown=True,close=close,time='absolute',seed=0,min_time_distance=min_time_distance)\n",
    "\n",
    "n=10\n",
    "\n",
    "scale=1.\n",
    "plt.figure(num=None, figsize=(15, 10), dpi=80, facecolor='w', edgecolor='k')\n",
    "for u in range(n):\n",
    "    for event in composite_absolute[u][1]:\n",
    "        plt.scatter(event[2],(0.5+u)*scale+((0.7*random.random()+0.8*event[1])*scale/(2.2)),color=set_color(event[1]),marker=set_shape(event[1]))\n",
    "        plt.axhline(y=u+1.4,c='black')\n",
    "        \n",
    "plt.xlabel('Consumption time (hours since epoch)',fontsize=20)\n",
    "plt.ylabel('Account #',fontsize=20)\n",
    "plt.axis([None, None, 0.4, u+1.4])\n",
    "plt.yticks(range(1,n+1))\n",
    "plt.show()"
   ]
  },
  {
   "cell_type": "markdown",
   "metadata": {},
   "source": [
    "# Apply the different identification algorithms"
   ]
  },
  {
   "cell_type": "code",
   "execution_count": null,
   "metadata": {
    "collapsed": true
   },
   "outputs": [],
   "source": [
    "verbose=False # Put to False to avoid all displays"
   ]
  },
  {
   "cell_type": "markdown",
   "metadata": {},
   "source": [
    "Baseline: Assign all movies to the first user"
   ]
  },
  {
   "cell_type": "code",
   "execution_count": null,
   "metadata": {
    "collapsed": true
   },
   "outputs": [],
   "source": [
    "predictions_one=TAUITM.identification.one_assignement(composite,movies,household_size)"
   ]
  },
  {
   "cell_type": "markdown",
   "metadata": {},
   "source": [
    "Algorithm of Kabutoya et al."
   ]
  },
  {
   "cell_type": "code",
   "execution_count": null,
   "metadata": {
    "collapsed": false,
    "scrolled": true
   },
   "outputs": [],
   "source": [
    "Y_kab,perf_kab,predictions_kab,params_kab=TAUITM.identification.em_kabutoya(composite_all,movies,mid_to_pos,composite,verbose=verbose,Nb_it=200,alpha=0.1,beta=0.1,gamma=0.1)"
   ]
  },
  {
   "cell_type": "markdown",
   "metadata": {},
   "source": [
    "Improvement of Kabutoya algorithm using Von Mises instead of pseudo-Gaussians."
   ]
  },
  {
   "cell_type": "code",
   "execution_count": null,
   "metadata": {
    "collapsed": false,
    "scrolled": true
   },
   "outputs": [],
   "source": [
    "Y_VM,perf_VM,predictions_VM,param_VM=TAUITM.identification.em_ITVM(composite_all,movies,mid_to_pos,composite,verbose=verbose,Nb_it=200,alpha=0.1,beta=0.1,gamma=0.1,K=50)"
   ]
  },
  {
   "cell_type": "markdown",
   "metadata": {},
   "source": [
    "Algorithm develloped in the paper: Time Aware User Identification With Topic Models"
   ]
  },
  {
   "cell_type": "code",
   "execution_count": null,
   "metadata": {
    "collapsed": false,
    "scrolled": true
   },
   "outputs": [],
   "source": [
    "# If you have plenty of memory you can use the first one which is slightly faster, else use the second which is less memory intensive\n",
    "Y_TAUITM,perf_TAUITM,predictions_TAUITM,params_TAUITM=TAUITM.identification.em_TAUITM(composite_all,movies,mid_to_pos,composite,verbose=verbose,Nb_it=200,tau=0.1,rho=0.1,beta=0.1,K=50,R=10,household_size=2,alpha=0.1,gamma=0.1,Genre_weight=0)\n",
    "#perf_TAUITM,predictions_TAUITM,params_TAUITM=TAUITM.identification.em_TAUITM_memory(composite_all,movies,mid_to_pos,composite,verbose=verbose,Nb_it=200,tau=0.1,rho=0.1,beta=0.1,K=50,R=10,household_size=2,alpha=0.1,gamma=0.1,Genre_weight=0)"
   ]
  },
  {
   "cell_type": "markdown",
   "metadata": {},
   "source": [
    "# Results"
   ]
  },
  {
   "cell_type": "markdown",
   "metadata": {},
   "source": [
    "Plot all metrics"
   ]
  },
  {
   "cell_type": "code",
   "execution_count": null,
   "metadata": {
    "collapsed": false,
    "scrolled": true
   },
   "outputs": [],
   "source": [
    "to_be_evaluated={'IPG':predictions_kab,'ITVM':predictions_VM,'TAUITM':predictions_TAUITM,'One':predictions_one}\n",
    "shape=[':','-','--','-.']\n",
    "color=['b','r','g','c','m','y','k']\n",
    "\n",
    "stats = TAUITM.performance.stats(composite,to_be_evaluated,household_size,cdf=True,measure=\"similarity\",shape=shape,color=color)\n",
    "stats_purity=TAUITM.performance.stats(composite,to_be_evaluated,household_size,cdf=True,measure=\"purity\",shape=shape,color=color)\n",
    "stats_mi=TAUITM.performance.stats(composite,to_be_evaluated,household_size,cdf=True,measure=\"ami\",shape=shape,color=color)\n",
    "stats_arand=TAUITM.performance.stats(composite,to_be_evaluated,household_size,cdf=True,measure=\"arand\",shape=shape,color=color)\n"
   ]
  },
  {
   "cell_type": "markdown",
   "metadata": {},
   "source": [
    "Display values for one particular metric"
   ]
  },
  {
   "cell_type": "code",
   "execution_count": null,
   "metadata": {
    "collapsed": false,
    "scrolled": true
   },
   "outputs": [],
   "source": [
    "for name, values in stats.iteritems():\n",
    "#for name, values in stats_purity.iteritems():\n",
    "#for name, values in stats_mi.iteritems():\n",
    "#for name, values in stats_arand.iteritems():\n",
    "    print name\n",
    "    for k,v in values.iteritems():\n",
    "        print k, v\n",
    "    print"
   ]
  },
  {
   "cell_type": "markdown",
   "metadata": {},
   "source": [
    "# Visualizations"
   ]
  },
  {
   "cell_type": "markdown",
   "metadata": {},
   "source": [
    "Show the item topics"
   ]
  },
  {
   "cell_type": "code",
   "execution_count": null,
   "metadata": {
    "collapsed": true
   },
   "outputs": [],
   "source": [
    "Phi=params_TAUITM['Phi'] # Choose the experiment to display\n",
    "k=10 # Get the k more reprensentative films by topics\n",
    "for i,phi in enumerate(Phi):\n",
    "    print \"Topic\",i\n",
    "    for j in np.argsort(phi)[::-1][0:k]:\n",
    "        print names[j], phi[j]\n",
    "    print\n"
   ]
  },
  {
   "cell_type": "markdown",
   "metadata": {},
   "source": [
    "Show the time topics."
   ]
  },
  {
   "cell_type": "code",
   "execution_count": null,
   "metadata": {
    "collapsed": true
   },
   "outputs": [],
   "source": [
    "def time_topic_emission(t,Gamma,r,T):\n",
    "    floor_t=floor(t)\n",
    "    ceil_t=ceil(t)\n",
    "    if floor_t==ceil_t: # Handle the particular case where we have an integer\n",
    "        ceil_t+=1\n",
    "    prop=t-floor_t\n",
    "    \n",
    "    return (1-prop)*Gamma[r,int(floor_t)]+prop*Gamma[r,int(ceil_t)%T]\n",
    "day_to_string=[\"Mon.\",\"Tue.\",\"Wed.\",\"Thu.\",\"Fri.\",\"Sat.\",\"Sun.\"]"
   ]
  },
  {
   "cell_type": "code",
   "execution_count": null,
   "metadata": {
    "collapsed": false
   },
   "outputs": [],
   "source": [
    "plt.figure(num=None, figsize=(10, 10), facecolor='w', edgecolor='k')  \n",
    "ax = plt.subplot( projection='polar')\n",
    "for r in range(params_TAUITM['R']): # Time topic to be shown \n",
    "    all_t=np.arange(0,params_TAUITM['T'],0.01)\n",
    "    PE=array([time_topic_emission(t,params_TAUITM['Gamma'],r,params_TAUITM['T']) for t in all_t])\n",
    "    ax.plot(np.pi/2-all_t*(2*np.pi/params_TAUITM['T']),0.20+PE,label=r,linewidth=4)\n",
    "    \n",
    "tick_values=range(0,24*7,6)\n",
    "plt.xticks(np.pi/2-array(tick_values)*(2*np.pi/params_TAUITM['T']), [(day_to_string[v/24]+\" 0\" if not(v%24) else v%24) for v in tick_values], rotation='vertical')\n",
    "plt.legend(bbox_to_anchor=(1.05, 1), loc=2, borderaxespad=0.)\n",
    "plt.yticks([0.20,0.25,0.30,0.35],[0,0.05,0.10,0.15])\n",
    "plt.show()"
   ]
  },
  {
   "cell_type": "markdown",
   "metadata": {},
   "source": [
    "Look at a particular account"
   ]
  },
  {
   "cell_type": "code",
   "execution_count": null,
   "metadata": {
    "collapsed": true
   },
   "outputs": [],
   "source": [
    "def active_user(t,u,Psi,Pi,Gamma,T):\n",
    "    # Knowing the time, predict the propability that one user is active.\n",
    "    if t.is_integer(): # Handle the particular case where t is an integer\n",
    "        floor_t=t\n",
    "        ceil_t=t+1\n",
    "    else:\n",
    "        floor_t=floor(t)\n",
    "        ceil_t=ceil(t)\n",
    "\n",
    "    PV=Psi[u]*(Pi[u][:,:]*((1-(t-floor_t))*Gamma[None,:,int(floor_t)]+(1-(ceil_t-t))*Gamma[None,:,int(ceil_t)%T])).sum(axis=1)\n",
    "    return PV\n"
   ]
  },
  {
   "cell_type": "code",
   "execution_count": null,
   "metadata": {
    "collapsed": false
   },
   "outputs": [],
   "source": [
    "u=np.random.randint(len(composite)) # User\n",
    "all_t=np.arange(0,params_TAUITM['T'],0.01)\n",
    "AU=array([active_user(t,u,params_TAUITM['Psi'],params_TAUITM['Pi'],params_TAUITM['Gamma'],params_TAUITM['T']) for t in all_t])\n",
    "scale=AU.max()\n",
    "\n",
    "figure(num=None, figsize=(15, 10), dpi=300, facecolor='w', edgecolor='k')        \n",
    "plt.plot(all_t,AU[:,0],c=(0., 0., 1.),linewidth=3)\n",
    "plt.plot(all_t,AU[:,1],c=(0., 1., 0.),linewidth=3)\n",
    "for event,pred in zip(composite[u][1],predictions_TAUITM[u][1]):\n",
    "    plt.scatter(event[2],scale+((random.random()+1.2*event[1])*scale/(2.2)),color=set_color(pred[1]),marker=set_shape(event[1]))\n",
    "    #plt.scatter(event[2],scale+((random.random()+2.4)*scale/(2.2)),color='black',marker='^')\n",
    "    \n",
    "tick_values=range(0,24*7,6)\n",
    "plt.xticks(tick_values, [(day_to_string[v/24]+\" 0\" if not(v%24) else v%24) for v in tick_values], rotation='vertical')\n",
    "xlim([0, 24*7]) \n",
    "ylim([0, 2.1*scale]) \n",
    "plt.show()"
   ]
  },
  {
   "cell_type": "code",
   "execution_count": null,
   "metadata": {
    "collapsed": true
   },
   "outputs": [],
   "source": []
  }
 ],
 "metadata": {
  "anaconda-cloud": {},
  "kernelspec": {
   "display_name": "Python [python27]",
   "language": "python",
   "name": "Python [python27]"
  },
  "language_info": {
   "codemirror_mode": {
    "name": "ipython",
    "version": 2
   },
   "file_extension": ".py",
   "mimetype": "text/x-python",
   "name": "python",
   "nbconvert_exporter": "python",
   "pygments_lexer": "ipython2",
   "version": "2.7.11"
  }
 },
 "nbformat": 4,
 "nbformat_minor": 0
}
